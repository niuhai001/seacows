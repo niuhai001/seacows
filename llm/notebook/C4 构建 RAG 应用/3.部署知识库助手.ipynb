{
 "cells": [
  {
   "cell_type": "markdown",
   "id": "e9e3f209-1b47-41aa-bb33-d0e7b564203c",
   "metadata": {
    "height": 30
   },
   "source": [
    "# 部署知识库助手\n"
   ]
  },
  {
   "cell_type": "markdown",
   "id": "2896c72f-1aa0-4b93-aea6-45908a6e42a1",
   "metadata": {},
   "source": [
    "我们对知识库和LLM已经有了基本的理解，现在是将它们巧妙地融合并打造成一个富有视觉效果的界面的时候了。这样的界面不仅对操作更加便捷，还能便于与他人分享。"
   ]
  },
  {
   "cell_type": "markdown",
   "id": "0c975542-100a-431f-bfdb-2e948fd1e360",
   "metadata": {
    "height": 30
   },
   "source": [
    "Streamlit 是一种快速便捷的方法，可以直接在 **Python 中通过友好的 Web 界面演示机器学习模型**。在本课程中，我们将学习*如何使用它为生成式人工智能应用程序构建用户界面*。在构建了机器学习模型后，如果你想构建一个 demo 给其他人看，也许是为了获得反馈并推动系统的改进，或者只是因为你觉得这个系统很酷，所以想演示一下：Streamlit 可以让您通过 Python 接口程序快速实现这一目标，而无需编写任何前端、网页或 JavaScript 代码。\n"
   ]
  },
  {
   "cell_type": "markdown",
   "id": "caa74cbe-96ed-4652-a761-8740615597ed",
   "metadata": {
    "height": 30
   },
   "source": [
    "## 一、Streamlit 简介"
   ]
  },
  {
   "cell_type": "markdown",
   "id": "bcf25020-22a5-435d-925a-26cbe71a5f59",
   "metadata": {},
   "source": [
    "\n",
    "`Streamlit` 是一个用于快速创建数据应用程序的开源 Python 库。它的设计目标是让数据科学家能够轻松地将数据分析和机器学习模型转化为具有交互性的 Web 应用程序，而无需深入了解 Web 开发。和常规 Web 框架，如 Flask/Django 的不同之处在于，它不需要你去编写任何客户端代码（HTML/CSS/JS），只需要编写普通的 Python 模块，就可以在很短的时间内创建美观并具备高度交互性的界面，从而快速生成数据分析或者机器学习的结果；另一方面，和那些只能通过拖拽生成的工具也不同的是，你仍然具有对代码的完整控制权。\n",
    "\n",
    "Streamlit 提供了一组简单而强大的基础模块，用于构建数据应用程序：\n",
    "\n",
    "- st.write()：这是最基本的模块之一，用于在应用程序中呈现文本、图像、表格等内容。\n",
    "\n",
    "- st.title()、st.header()、st.subheader()：这些模块用于添加标题、子标题和分组标题，以组织应用程序的布局。\n",
    "\n",
    "- st.text()、st.markdown()：用于添加文本内容，支持 Markdown 语法。\n",
    "\n",
    "- st.image()：用于添加图像到应用程序中。\n",
    "\n",
    "- st.dataframe()：用于呈现 Pandas 数据框。\n",
    "\n",
    "- st.table()：用于呈现简单的数据表格。\n",
    "\n",
    "- st.pyplot()、st.altair_chart()、st.plotly_chart()：用于呈现 Matplotlib、Altair 或 Plotly 绘制的图表。\n",
    "\n",
    "- st.selectbox()、st.multiselect()、st.slider()、st.text_input()：用于添加交互式小部件，允许用户在应用程序中进行选择、输入或滑动操作。\n",
    "\n",
    "- st.button()、st.checkbox()、st.radio()：用于添加按钮、复选框和单选按钮，以触发特定的操作。\n",
    "\n",
    "这些基础模块使得通过 Streamlit 能够轻松地构建交互式数据应用程序，并且在使用时可以根据需要进行组合和定制，更多内容请查看[官方文档](https://docs.streamlit.io/get-started)"
   ]
  },
  {
   "cell_type": "markdown",
   "id": "9c3209b0",
   "metadata": {},
   "source": [
    "## 二、构建应用程序"
   ]
  },
  {
   "cell_type": "markdown",
   "id": "62b23f9f",
   "metadata": {},
   "source": [
    "首先，创建一个新的 Python 文件并将其保存 streamlit_app.py在工作目录的根目录中"
   ]
  },
  {
   "cell_type": "markdown",
   "id": "cf5e3845",
   "metadata": {},
   "source": [
    "1. 导入必要的 Python 库。"
   ]
  },
  {
   "cell_type": "code",
   "execution_count": null,
   "id": "3c4172dd",
   "metadata": {},
   "outputs": [],
   "source": [
    "import streamlit as st\n",
    "from langchain_openai import ChatOpenAI\n",
    "import os\n",
    "from langchain_core.output_parsers import StrOutputParser\n",
    "from langchain_core.prompts import ChatPromptTemplate\n",
    "from langchain_core.runnables import RunnableBranch, RunnablePassthrough\n",
    "import sys\n",
    "sys.path.append(\"notebook/C3 搭建知识库\") # 将父目录放入系统路径中\n",
    "from zhipuai_embedding import ZhipuAIEmbeddings\n",
    "from langchain_community.vectorstores import Chroma"
   ]
  },
  {
   "cell_type": "markdown",
   "id": "39a8a2b0",
   "metadata": {},
   "source": [
    "2. 定义`get_retriever`函数，该函数返回一个检索器"
   ]
  },
  {
   "cell_type": "code",
   "execution_count": null,
   "id": "05af482b",
   "metadata": {},
   "outputs": [],
   "source": [
    "def get_retriever():\n",
    "    # 定义 Embeddings\n",
    "    embedding = ZhipuAIEmbeddings()\n",
    "    # 向量数据库持久化路径\n",
    "    persist_directory = 'data_base/vector_db/chroma'\n",
    "    # 加载数据库\n",
    "    vectordb = Chroma(\n",
    "        persist_directory=persist_directory,\n",
    "        embedding_function=embedding\n",
    "    )\n",
    "    return vectordb.as_retriever()"
   ]
  },
  {
   "cell_type": "markdown",
   "id": "40e67167",
   "metadata": {},
   "source": [
    "3. 定义`combine_docs`函数， 该函数处理检索器返回的文本"
   ]
  },
  {
   "cell_type": "code",
   "execution_count": null,
   "id": "c3d3552f",
   "metadata": {},
   "outputs": [],
   "source": [
    "def combine_docs(docs):\n",
    "    return \"\\n\\n\".join(doc.page_content for doc in docs[\"context\"])"
   ]
  },
  {
   "cell_type": "markdown",
   "id": "e3ee3571",
   "metadata": {},
   "source": [
    "4. 定义`get_qa_history_chain`函数，该函数可以返回一个检索问答链"
   ]
  },
  {
   "cell_type": "code",
   "execution_count": null,
   "id": "8f09c82b",
   "metadata": {},
   "outputs": [],
   "source": [
    "def get_qa_history_chain():\n",
    "    retriever = get_retriever()\n",
    "    llm = ChatOpenAI(model_name=\"gpt-4o\", temperature=0)\n",
    "    condense_question_system_template = (\n",
    "        \"请根据聊天记录总结用户最近的问题，\"\n",
    "        \"如果没有多余的聊天记录则返回用户的问题。\"\n",
    "    )\n",
    "    condense_question_prompt = ChatPromptTemplate([\n",
    "            (\"system\", condense_question_system_template),\n",
    "            (\"placeholder\", \"{chat_history}\"),\n",
    "            (\"human\", \"{input}\"),\n",
    "        ])\n",
    "\n",
    "    retrieve_docs = RunnableBranch(\n",
    "        (lambda x: not x.get(\"chat_history\", False), (lambda x: x[\"input\"]) | retriever, ),\n",
    "        condense_question_prompt | llm | StrOutputParser() | retriever,\n",
    "    )\n",
    "\n",
    "    system_prompt = (\n",
    "        \"你是一个问答任务的助手。 \"\n",
    "        \"请使用检索到的上下文片段回答这个问题。 \"\n",
    "        \"如果你不知道答案就说不知道。 \"\n",
    "        \"请使用简洁的话语回答用户。\"\n",
    "        \"\\n\\n\"\n",
    "        \"{context}\"\n",
    "    )\n",
    "    qa_prompt = ChatPromptTemplate.from_messages(\n",
    "        [\n",
    "            (\"system\", system_prompt),\n",
    "            (\"placeholder\", \"{chat_history}\"),\n",
    "            (\"human\", \"{input}\"),\n",
    "        ]\n",
    "    )\n",
    "    qa_chain = (\n",
    "        RunnablePassthrough().assign(context=combine_docs)\n",
    "        | qa_prompt\n",
    "        | llm\n",
    "        | StrOutputParser()\n",
    "    )\n",
    "\n",
    "    qa_history_chain = RunnablePassthrough().assign(\n",
    "        context = retrieve_docs, \n",
    "        ).assign(answer=qa_chain)\n",
    "    return qa_history_chain"
   ]
  },
  {
   "cell_type": "markdown",
   "id": "dedb3947",
   "metadata": {},
   "source": [
    "5. 定义`gen_response`函数，它接受检索问答链、用户输入及聊天历史，并以流式返回该链输出"
   ]
  },
  {
   "cell_type": "code",
   "execution_count": null,
   "id": "3e54d11b",
   "metadata": {},
   "outputs": [],
   "source": [
    "def gen_response(chain, input, chat_history):\n",
    "    response = chain.stream({\n",
    "        \"input\": input,\n",
    "        \"chat_history\": chat_history\n",
    "    })\n",
    "    for res in response:\n",
    "        if \"answer\" in res.keys():\n",
    "            yield res[\"answer\"]"
   ]
  },
  {
   "cell_type": "markdown",
   "id": "a0685932",
   "metadata": {},
   "source": [
    "6. 定义main函数，该函数制定显示效果与逻辑"
   ]
  },
  {
   "cell_type": "code",
   "execution_count": null,
   "id": "38688f12",
   "metadata": {},
   "outputs": [],
   "source": [
    "def main():\n",
    "    st.markdown('### 🦜🔗 动手学大模型应用开发')\n",
    "    # st.session_state可以存储用户与应用交互期间的状态与数据\n",
    "    # 存储对话历史\n",
    "    if \"messages\" not in st.session_state:\n",
    "        st.session_state.messages = []\n",
    "    # 存储检索问答链\n",
    "    if \"qa_history_chain\" not in st.session_state:\n",
    "        st.session_state.qa_history_chain = get_qa_history_chain()\n",
    "    # 建立容器 高度为500 px\n",
    "    messages = st.container(height=550)\n",
    "    # 显示整个对话历史\n",
    "    for message in st.session_state.messages: # 遍历对话历史\n",
    "            with messages.chat_message(message[0]): # messages指在容器下显示，chat_message显示用户及ai头像\n",
    "                st.write(message[1]) # 打印内容\n",
    "    if prompt := st.chat_input(\"Say something\"):\n",
    "        # 将用户输入添加到对话历史中\n",
    "        st.session_state.messages.append((\"human\", prompt))\n",
    "        # 显示当前用户输入\n",
    "        with messages.chat_message(\"human\"):\n",
    "            st.write(prompt)\n",
    "        # 生成回复\n",
    "        answer = gen_response(\n",
    "            chain=st.session_state.qa_history_chain,\n",
    "            input=prompt,\n",
    "            chat_history=st.session_state.messages\n",
    "        )\n",
    "        # 流式输出\n",
    "        with messages.chat_message(\"ai\"):\n",
    "            output = st.write_stream(answer)\n",
    "        # 将输出存入st.session_state.messages\n",
    "        st.session_state.messages.append((\"ai\", output))"
   ]
  },
  {
   "cell_type": "markdown",
   "id": "f9a43de5",
   "metadata": {},
   "source": [
    "## 四、部署应用程序  \n",
    "\n",
    "**本地运行：** `streamlit run \"notebook/C4 构建 RAG 应用/streamlit_app.py\"`\n",
    "**远程部署：**要将应用程序部署到 Streamlit Cloud，请执行以下步骤：  \n",
    "  \n",
    "1. 为应用程序创建 GitHub 存储库。您的存储库应包含两个文件：  \n",
    "  \n",
    "   your-repository/  \n",
    "   ├── streamlit_app.py  \n",
    "   └── requirements.txt  \n",
    "  \n",
    "2. 转到 [Streamlit Community Cloud](http://share.streamlit.io/)，单击工作区中的`New app`按钮，然后指定存储库、分支和主文件路径。或者，您可以通过选择自定义子域来自定义应用程序的 URL\n",
    "  \n",
    "3. 点击`Deploy!`按钮  \n",
    "  \n",
    "您的应用程序现在将部署到 Streamlit Community Cloud，并且可以从世界各地访问！ 🌎  "
   ]
  },
  {
   "cell_type": "markdown",
   "id": "c3c13465",
   "metadata": {},
   "source": [
    "我们的项目部署到这基本完成，为了方便进行演示进行了简化，还有很多可以进一步优化的地方，期待学习者们进行各种魔改！\n",
    "\n",
    "优化方向：\n",
    "- 界面中添加上传本地文档，建立向量数据库的功能\n",
    "- 添加多种LLM 与 embedding方法选择的按钮\n",
    "- 添加修改参数的按钮\n",
    "- 更多......"
   ]
  }
 ],
 "metadata": {
  "kernelspec": {
   "display_name": "universe_0_3",
   "language": "python",
   "name": "python3"
  },
  "language_info": {
   "codemirror_mode": {
    "name": "ipython",
    "version": 3
   },
   "file_extension": ".py",
   "mimetype": "text/x-python",
   "name": "python",
   "nbconvert_exporter": "python",
   "pygments_lexer": "ipython3",
   "version": "3.10.16"
  }
 },
 "nbformat": 4,
 "nbformat_minor": 5
}
